{
 "cells": [
  {
   "cell_type": "code",
   "execution_count": 1,
   "metadata": {},
   "outputs": [
    {
     "name": "stderr",
     "output_type": "stream",
     "text": [
      "INFO: Using numpy backend\n"
     ]
    }
   ],
   "source": [
    "import sys\n",
    "sys.path.insert(1, '../')\n",
    "from FrenetFDA.processing_Euclidean_curve_bis.unified_estimate_Frenet_state_space.EM_Frenet_state_space import FrenetStateSpace\n",
    "from FrenetFDA.processing_Euclidean_curve_bis.unified_estimate_Frenet_state_space.iek_filter_smoother_Frenet_state import IEKFilterSmootherFrenetState\n",
    "import FrenetFDA.utils.visualization as visu\n",
    "from FrenetFDA.utils.Lie_group.SE3_utils import SE3\n",
    "from FrenetFDA.utils.Lie_group.SO3_utils import SO3\n",
    "from FrenetFDA.utils.smoothing_utils import VectorBSplineSmoothing\n",
    "from FrenetFDA.utils.Frenet_Serret_utils import solve_FrenetSerret_ODE_SE, solve_FrenetSerret_ODE_SO\n",
    "import numpy as np\n",
    "from scipy.integrate import cumtrapz, solve_ivp\n",
    "from scipy.interpolate import interp1d\n",
    "from sklearn.gaussian_process.kernels import Matern\n",
    "import plotly.graph_objs as go\n",
    "import plotly.express as px\n",
    "from plotly.subplots import make_subplots\n",
    "layout = go.Layout(plot_bgcolor='rgba(0,0,0,0)')\n",
    "import plotly.io as pio\n",
    "pio.renderers.default = 'browser'"
   ]
  },
  {
   "cell_type": "code",
   "execution_count": 2,
   "metadata": {},
   "outputs": [],
   "source": [
    "def generate_Y(X, gamma):\n",
    "    W = gamma**2*np.eye(3)\n",
    "    Y = X[1:] + np.random.multivariate_normal(np.zeros(3), W, size=(len(X)-1))\n",
    "    return Y\n",
    "\n",
    "color_list = px.colors.qualitative.Plotly\n",
    "def plot_res_Z(kf, Q_true, Q_mu, X_true, X_mu, Y, title=''):\n",
    "\n",
    "    fig = make_subplots(rows=2, cols=2, subplot_titles=(\"Tangent Vector\", \"Normal Vector\", \"Binormal Vector\", \"X\"), specs=[[{\"type\": \"scene\"}, {\"type\": \"scene\"}],\n",
    "           [{\"type\": \"scene\"}, {\"type\": \"scene\"}]],)\n",
    "    # T \n",
    "    fig.add_trace(go.Scatter3d(x=Q_true[:,:,0][:,0],y=Q_true[:,:,0][:,1],z=Q_true[:,:,0][:,2],name='True',mode='lines',line=dict(width=3,  color=color_list[0])), row=1, col=1)\n",
    "    fig.add_trace(go.Scatter3d(x=Q_mu[:,:,0][:,0],y=Q_mu[:,:,0][:,1],z=Q_mu[:,:,0][:,2],name='Init',mode='lines',line=dict(width=3,  color=color_list[1])), row=1, col=1)\n",
    "    fig.add_trace(go.Scatter3d(x=kf.track_Q[:,:,0][:,0],y=kf.track_Q[:,:,0][:,1],z=kf.track_Q[:,:,0][:,2],name='Track',mode='lines',line=dict(width=3,  color=color_list[2])), row=1, col=1)\n",
    "    fig.add_trace(go.Scatter3d(x=kf.smooth_Q[:,:,0][:,0],y=kf.smooth_Q[:,:,0][:,1],z=kf.smooth_Q[:,:,0][:,2],name='Smooth',mode='lines',line=dict(width=3,  color=color_list[3])), row=1, col=1)\n",
    "    # N \n",
    "    fig.add_trace(go.Scatter3d(x=Q_true[:,:,1][:,0],y=Q_true[:,:,1][:,1],z=Q_true[:,:,1][:,2],name='True',mode='lines',line=dict(width=3,  color=color_list[0])), row=1, col=2)\n",
    "    fig.add_trace(go.Scatter3d(x=Q_mu[:,:,1][:,0],y=Q_mu[:,:,1][:,1],z=Q_mu[:,:,1][:,2],name='Init',mode='lines',line=dict(width=3, color=color_list[1])), row=1, col=2)\n",
    "    fig.add_trace(go.Scatter3d(x=kf.track_Q[:,:,1][:,0],y=kf.track_Q[:,:,1][:,1],z=kf.track_Q[:,:,1][:,2],name='Track',mode='lines',line=dict(width=3, color=color_list[2])), row=1, col=2)\n",
    "    fig.add_trace(go.Scatter3d(x=kf.smooth_Q[:,:,1][:,0],y=kf.smooth_Q[:,:,1][:,1],z=kf.smooth_Q[:,:,1][:,2],name='Smooth',mode='lines',line=dict(width=3,  color=color_list[3])), row=1, col=2)\n",
    "    # B\n",
    "    fig.add_trace(go.Scatter3d(x=Q_true[:,:,2][:,0],y=Q_true[:,:,2][:,1],z=Q_true[:,:,2][:,2],name='True',mode='lines',line=dict(width=3, color=color_list[0])), row=2, col=1)\n",
    "    fig.add_trace(go.Scatter3d(x=Q_mu[:,:,2][:,0],y=Q_mu[:,:,2][:,1],z=Q_mu[:,:,2][:,2],name='Init',mode='lines',line=dict(width=3, color=color_list[1])), row=2, col=1)\n",
    "    fig.add_trace(go.Scatter3d(x=kf.track_Q[:,:,2][:,0],y=kf.track_Q[:,:,2][:,1],z=kf.track_Q[:,:,2][:,2],name='Track',mode='lines',line=dict(width=3, color=color_list[2])), row=2, col=1)\n",
    "    fig.add_trace(go.Scatter3d(x=kf.smooth_Q[:,:,2][:,0],y=kf.smooth_Q[:,:,2][:,1],z=kf.smooth_Q[:,:,2][:,2],name='Smooth',mode='lines',line=dict(width=3, color=color_list[3])), row=2, col=1)\n",
    "    # X \n",
    "    fig.add_trace(go.Scatter3d(x=X_true[:,0],y=X_true[:,1],z=X_true[:,2],name='True',mode='lines',line=dict(width=3,  color=color_list[0])), row=2, col=2)\n",
    "    fig.add_trace(go.Scatter3d(x=X_mu[:,0],y=X_mu[:,1],z=X_mu[:,2],name='Init',mode='lines',line=dict(width=3, color=color_list[1])), row=2, col=2)\n",
    "    fig.add_trace(go.Scatter3d(x=kf.track_X[:,0],y=kf.track_X[:,1],z=kf.track_X[:,2],name='Track',mode='lines',line=dict(width=3, color=color_list[2])), row=2, col=2)\n",
    "    fig.add_trace(go.Scatter3d(x=kf.smooth_X[:,0],y=kf.smooth_X[:,1],z=kf.smooth_X[:,2],name='Smooth',mode='lines',line=dict(width=3, color=color_list[3])), row=2, col=2)\n",
    "    fig.add_trace(go.Scatter3d(x=Y[:,0],y=Y[:,1],z=Y[:,2],name='Observations',mode='lines',line=dict(width=3, color=color_list[4])), row=2, col=2)\n",
    "\n",
    "    fig.update_xaxes(showline=True, showgrid=False, linewidth=1, linecolor='black')\n",
    "    fig.update_yaxes(showline=True, showgrid=False, linewidth=1, linecolor='black')\n",
    "    fig.update_layout(title_text=title)\n",
    "    fig.show()\n",
    "\n",
    "N = 200\n",
    "grid = np.linspace(0,1,N+1)\n",
    "\n",
    "\n",
    "\"\"\" __________ Definition of exact function Theta ___________ \"\"\"\n",
    "\n",
    "curv = lambda s : 2*np.cos(2*np.pi*s) + 5\n",
    "tors = lambda s : 2*np.sin(2*np.pi*s) + 1\n",
    "\n",
    "def theta(s):\n",
    "    if isinstance(s, int) or isinstance(s, float):\n",
    "        return np.array([curv(s), tors(s)])\n",
    "    elif isinstance(s, np.ndarray):\n",
    "        return np.vstack((curv(s), tors(s))).T\n",
    "    else:\n",
    "        raise ValueError('Variable is not a float, a int or a NumPy array.')\n",
    "    \n",
    "def warping(s,a):\n",
    "    if np.abs(a)<1e-15:\n",
    "        return s\n",
    "    else:\n",
    "        return (np.exp(a*s) - 1)/(np.exp(a) - 1)\n",
    "    \n",
    "warp_grid = warping(grid, 2)\n",
    "    \n",
    "\"\"\" __________ Definition of states and noisy observations __________ \"\"\"\n",
    "\n",
    "mu0 = np.eye(4)\n",
    "mu_Z = solve_FrenetSerret_ODE_SE(theta, grid, Z0=mu0)\n",
    "mu_Q, mu_X = mu_Z[:,:3,:3], mu_Z[:,:3,3]\n",
    "\n",
    "gamma = 0.001\n",
    "W = gamma**2*np.eye(3)\n",
    "Y = generate_Y(mu_X, gamma)"
   ]
  },
  {
   "cell_type": "code",
   "execution_count": 3,
   "metadata": {},
   "outputs": [],
   "source": [
    "visu.plot_3D([mu_X, Y], ['X', 'Y'])"
   ]
  },
  {
   "cell_type": "code",
   "execution_count": 3,
   "metadata": {},
   "outputs": [],
   "source": [
    "# Bspline_true_theta = VectorBSplineSmoothing(2, 30)\n",
    "# Bspline_true_theta.fit(grid, theta(grid))\n",
    "# true_coefs = Bspline_true_theta.coefs\n",
    "sigma_theta = 2\n",
    "val_theta_noisy = theta(grid) + np.random.multivariate_normal(np.zeros(2), sigma_theta**2*np.eye(2), size=len(grid))\n",
    "Bspline_noisy_theta = VectorBSplineSmoothing(2, 30)"
   ]
  },
  {
   "cell_type": "code",
   "execution_count": 4,
   "metadata": {},
   "outputs": [],
   "source": [
    "Bspline_noisy_theta.fit(grid, val_theta_noisy, regularization_parameter=np.array([0.01]))\n",
    "coefs_noisy = Bspline_noisy_theta.coefs"
   ]
  },
  {
   "cell_type": "code",
   "execution_count": 5,
   "metadata": {},
   "outputs": [],
   "source": [
    "visu.plot_array_2D_names(grid, [curv(grid), val_theta_noisy[:,0], Bspline_noisy_theta.evaluate(grid)[:,0]], ['exact_function', 'noisy initial guess', 'Bspline representation initial guess'])\n",
    "visu.plot_array_2D_names(grid, [tors(grid), val_theta_noisy[:,1], Bspline_noisy_theta.evaluate(grid)[:,1]], ['exact_function', 'noisy initial guess', 'Bspline representation initial guess'])"
   ]
  },
  {
   "cell_type": "code",
   "execution_count": 5,
   "metadata": {},
   "outputs": [],
   "source": [
    "theta_noisy = Bspline_noisy_theta.evaluate"
   ]
  },
  {
   "cell_type": "code",
   "execution_count": 6,
   "metadata": {},
   "outputs": [],
   "source": [
    "# sigma = 0.02\n",
    "# Sigma = lambda s: sigma**2*np.eye(2)\n",
    "sigma_1 = 0.024624036788131774\n",
    "sigma_2 = 0.031145642946630775\n",
    "Sigma = lambda s: np.array([[sigma_1**2, 0], [0, sigma_2**2]])\n",
    "\n",
    "P0 = (0.0001**2)*np.eye(6)\n",
    "\n",
    "kf = IEKFilterSmootherFrenetState(3, W, Sigma, theta_noisy, Z0=mu0, P0=P0, K_pts=5) \n",
    "kf.smoothing(grid,Y)"
   ]
  },
  {
   "cell_type": "code",
   "execution_count": 7,
   "metadata": {},
   "outputs": [],
   "source": [
    "mu_Z_noisy = solve_FrenetSerret_ODE_SE(theta_noisy, grid, Z0=mu0)\n",
    "mu_Q_noisy, mu_X_noisy = mu_Z_noisy[:,:3,:3], mu_Z_noisy[:,:3,3]\n",
    "plot_res_Z(kf, mu_Q, mu_Q_noisy, mu_X, mu_X_noisy, Y, title='test tracking from wrong a_theta')"
   ]
  },
  {
   "cell_type": "code",
   "execution_count": 7,
   "metadata": {},
   "outputs": [
    {
     "name": "stdout",
     "output_type": "stream",
     "text": [
      "___ M step ___\n",
      "iteration for optimization of coefs and Sigma: 0 , relative error: 0.057146457799571386\n",
      "iteration for optimization of coefs and Sigma: 1 , relative error: 0.005077864772270491\n",
      "iteration for optimization of coefs and Sigma: 2 , relative error: 0.0007999674711607682\n",
      "part 1 SSE [0.19602411 1.96884126]\n",
      "lambda value: [0.001 0.01 ]  GCV score: 0.011732323748954368 SSE: [0.19602411 1.96884126] df: [13.39553065  7.32044805]\n",
      "iteration for optimization of coefs and Sigma: 0 , relative error: 0.06288353051923813\n",
      "iteration for optimization of coefs and Sigma: 1 , relative error: 0.001383096610773874\n",
      "iteration for optimization of coefs and Sigma: 2 , relative error: 1.0862653012741554e-05\n",
      "part 1 SSE [0.19601607 0.04591444]\n",
      "lambda value: [0.001 0.001]  GCV score: 0.0013858815782535384 SSE: [0.19601607 0.04591444] df: [13.39553071 12.08120646]\n",
      "iteration for optimization of coefs and Sigma: 0 , relative error: 0.06309428066674935\n",
      "iteration for optimization of coefs and Sigma: 1 , relative error: 0.0013230384304188374\n",
      "iteration for optimization of coefs and Sigma: 2 , relative error: 1.0667275963557108e-05\n",
      "part 1 SSE [0.05368454 0.04591289]\n",
      "lambda value: [0.0001 0.001 ]  GCV score: 0.0005947560694360554 SSE: [0.05368454 0.04591289] df: [20.90018504 12.08120648]\n",
      "iteration for optimization of coefs and Sigma: 0 , relative error: 0.06407162006048434\n",
      "iteration for optimization of coefs and Sigma: 1 , relative error: 0.00030526027775138864\n",
      "part 1 SSE [0.05369028 0.00661731]\n",
      "lambda value: [0.0001 0.0001]  GCV score: 0.00037526881899687927 SSE: [0.05369028 0.00661731] df: [20.90018494 19.24576065]\n",
      "iteration for optimization of coefs and Sigma: 0 , relative error: 0.0642471307199266\n",
      "iteration for optimization of coefs and Sigma: 1 , relative error: 9.338535176306007e-05\n",
      "part 1 SSE [0.01918737 0.0037212 ]\n",
      "lambda value: [1.e-05 1.e-05]  GCV score: 0.0001528502499717827 SSE: [0.01918737 0.0037212 ] df: [27.01512008 26.09448705]\n",
      "iteration for optimization of coefs and Sigma: 0 , relative error: 0.06427568185735838\n",
      "iteration for optimization of coefs and Sigma: 1 , relative error: 3.9115428992963305e-05\n",
      "part 1 SSE [0.01637076 0.0035135 ]\n",
      "lambda value: [1.e-06 1.e-06]  GCV score: 0.00013657881336575254 SSE: [0.01637076 0.0035135 ] df: [29.41132923 29.12662294]\n",
      "iteration for optimization of coefs and Sigma: 0 , relative error: 0.06427568185735838\n",
      "iteration for optimization of coefs and Sigma: 1 , relative error: 3.9115428992963305e-05\n",
      "value of loglikelihood: 8139.694395499919\n"
     ]
    }
   ],
   "source": [
    "FS_statespace = FrenetStateSpace(grid,Y)\n",
    "reg_param_list = np.array([[0.001,0.01], [0.001,0.001], [0.0001,0.001], [0.0001,0.0001], [0.00001,0.00001], [0.000001,0.000001]])\n",
    "# reg_param_list = np.array([[0.0001,0.0001]])\n",
    "FS_statespace.initialized_from_state(kf.smooth_Z, coefs_noisy, 30, reg_param_list, P=kf.smooth_P, P_dble=kf.smooth_P_dble, method='autre', model_Sigma='diagonal_continuous')"
   ]
  },
  {
   "cell_type": "code",
   "execution_count": 11,
   "metadata": {},
   "outputs": [
    {
     "name": "stdout",
     "output_type": "stream",
     "text": [
      "part 1 SSE [0.01637076 0.0035135 ]\n"
     ]
    }
   ],
   "source": [
    "FS_statespace.compute_sampling_variance()"
   ]
  },
  {
   "cell_type": "code",
   "execution_count": 12,
   "metadata": {},
   "outputs": [],
   "source": [
    "lower_bound, upper_bound = FS_statespace.confidence_limits(grid)\n",
    "visu.plot_array_2D_names(grid, [curv(grid), FS_statespace.theta(grid)[:,0], theta_noisy(grid)[:,0], lower_bound[:,0], upper_bound[:,0]], ['curv exact', 'estimated curv', 'curv init guess', 'lower_bound', 'upper_bound'])\n",
    "visu.plot_array_2D_names(grid, [tors(grid), FS_statespace.theta(grid)[:,1],  theta_noisy(grid)[:,1], lower_bound[:,1], upper_bound[:,1]], ['tors exact', 'estimated tors', 'tors init guess', 'lower_bound', 'upper_bound'])"
   ]
  },
  {
   "cell_type": "code",
   "execution_count": 8,
   "metadata": {},
   "outputs": [
    {
     "name": "stdout",
     "output_type": "stream",
     "text": [
      "(60,)\n"
     ]
    }
   ],
   "source": [
    "print(coefs_noisy.shape)"
   ]
  },
  {
   "cell_type": "code",
   "execution_count": 8,
   "metadata": {},
   "outputs": [
    {
     "name": "stdout",
     "output_type": "stream",
     "text": [
      "estimated W: [[ 1.e-06 -0.e+00  0.e+00]\n",
      " [-0.e+00  1.e-06  0.e+00]\n",
      " [ 0.e+00  0.e+00  1.e-06]]\n",
      "true W: [[1.e-06 0.e+00 0.e+00]\n",
      " [0.e+00 1.e-06 0.e+00]\n",
      " [0.e+00 0.e+00 1.e-06]]\n",
      "estimated P0: [[ 6.45742173e-07 -9.91988320e-10  7.77858894e-12 -7.24665006e-11\n",
      "  -4.43018423e-11 -6.63543822e-10]\n",
      " [-9.91988320e-10  9.97293476e-09  1.71077577e-10  1.39371138e-11\n",
      "   3.35091240e-12  1.49579745e-10]\n",
      " [ 7.77858894e-12  1.71077577e-10  4.04496230e-07 -1.66032584e-10\n",
      "  -6.32100964e-10  1.65973639e-11]\n",
      " [-7.24665006e-11  1.39371138e-11 -1.66032584e-10  7.09743018e-09\n",
      "  -8.45024975e-10 -1.49368096e-10]\n",
      " [-4.43018423e-11  3.35091240e-12 -6.32100964e-10 -8.45024975e-10\n",
      "   8.23304932e-09 -5.40191899e-11]\n",
      " [-6.63543822e-10  1.49579745e-10  1.65973639e-11 -1.49368096e-10\n",
      "  -5.40191899e-11  7.87190875e-09]]\n"
     ]
    }
   ],
   "source": [
    "v_grid = (1/2)*(grid[1:]+grid[:-1])\n",
    "# visu.plot_array_2D_names(v_grid, [curv(v_grid), FS_statespace.theta(v_grid)[:,0], theta_noisy(v_grid)[:,0]], ['curv exact', 'estimated curv', 'curv init guess'])\n",
    "# visu.plot_array_2D_names(v_grid, [tors(v_grid), FS_statespace.theta(v_grid)[:,1],  theta_noisy(v_grid)[:,1]], ['tors exact', 'estimated tors', 'tors init guess'])\n",
    "visu.plot_array_2D_names(grid, [curv(grid), FS_statespace.theta(grid)[:,0], theta_noisy(grid)[:,0]], ['curv exact', 'estimated curv', 'curv init guess'])\n",
    "visu.plot_array_2D_names(grid, [tors(grid), FS_statespace.theta(grid)[:,1],  theta_noisy(grid)[:,1]], ['tors exact', 'estimated tors', 'tors init guess'])\n",
    "# print(\"estimated sigma:\", np.sqrt(FS_statespace.sigma_square))\n",
    "print(\"estimated W:\", np.round(FS_statespace.W,decimals=6)) \n",
    "print(\"true W:\", W) \n",
    "print(\"estimated P0:\", FS_statespace.P0) "
   ]
  },
  {
   "cell_type": "code",
   "execution_count": 13,
   "metadata": {},
   "outputs": [],
   "source": [
    "visu.plot_array_2D_names(v_grid, [[FS_statespace.Sigma(v_grid[i])[0,0] for i in range(199)], [FS_statespace.Sigma(v_grid[i])[1,1] for i in range(199)]], ['sigma1', 'sigma2'])"
   ]
  },
  {
   "cell_type": "code",
   "execution_count": 12,
   "metadata": {},
   "outputs": [
    {
     "name": "stdout",
     "output_type": "stream",
     "text": [
      "-------------- Iteration 1 / 10  --------------\n",
      "___ E step ___\n",
      "___ M step ___\n",
      "sigma: 0.01977354845227034\n",
      "iteration for optimization of coefs and Sigma: 0 , relative error: 0.06197080811589998\n",
      "sigma: 0.019773520796051495\n",
      "iteration for optimization of coefs and Sigma: 1 , relative error: 1.0819485295417896e-05\n",
      "lambda value: [0.01 0.01]  GCV score: 2.9677451898409926 SSE: 399.99999999999994 df: 35.81567620730358\n",
      "sigma: 0.019772389429555375\n",
      "iteration for optimization of coefs and Sigma: 0 , relative error: 0.0620346274129071\n",
      "sigma: 0.019772385177622996\n",
      "iteration for optimization of coefs and Sigma: 1 , relative error: 3.7612896325984122e-06\n",
      "lambda value: [0.001 0.001]  GCV score: 4.220640144121074 SSE: 400.00000000000006 df: 62.324763619013524\n",
      "sigma: 0.019772180565326054\n",
      "iteration for optimization of coefs and Sigma: 0 , relative error: 0.062043381006608785\n",
      "sigma: 0.019772182864706073\n",
      "iteration for optimization of coefs and Sigma: 1 , relative error: 7.783136689395655e-05\n",
      "lambda value: [0.0001 0.0001]  GCV score: 20.984600116714724 SSE: 399.99999999999955 df: 138.2560165741281\n",
      "sigma: 0.0197722552255738\n",
      "iteration for optimization of coefs and Sigma: 0 , relative error: 0.06204516011849139\n",
      "sigma: 0.019772420096461397\n",
      "iteration for optimization of coefs and Sigma: 1 , relative error: 0.00046223038259526666\n",
      "lambda value: [1.e-05 1.e-05]  GCV score: 93.03637395863866 SSE: 399.9999999999773 df: 170.67631094400895\n",
      "sigma: 0.019772910817605287\n",
      "iteration for optimization of coefs and Sigma: 0 , relative error: 0.06204811870092307\n",
      "sigma: 0.022695571276266167\n",
      "iteration for optimization of coefs and Sigma: 1 , relative error: 0.04079329145902481\n",
      "sigma: 0.019772220158329298\n",
      "iteration for optimization of coefs and Sigma: 2 , relative error: 0.04082691435912052\n",
      "sigma: 0.019772261243423583\n",
      "iteration for optimization of coefs and Sigma: 3 , relative error: 0.0003382319606439741\n",
      "lambda value: [1.e-06 1.e-06]  GCV score: 34.37970070936332 SSE: 400.0000000000053 df: 151.76148301296735\n",
      "sigma: 0.01977354845227034\n",
      "iteration for optimization of coefs and Sigma: 0 , relative error: 0.06197080811589998\n",
      "sigma: 0.019773520796051495\n",
      "iteration for optimization of coefs and Sigma: 1 , relative error: 1.0819485295417896e-05\n",
      "val W: -4175.82788002886  val P0: -46.48370325052322\n",
      "value of loglikelihood:  8416.797837237358\n",
      "relative error:  8416.797837237358\n",
      "-------------- Iteration 2 / 10  --------------\n",
      "___ E step ___\n",
      "___ M step ___\n",
      "sigma: 0.01954110738980533\n",
      "iteration for optimization of coefs and Sigma: 0 , relative error: 0.007652284623180766\n",
      "sigma: 0.019541055692594345\n",
      "iteration for optimization of coefs and Sigma: 1 , relative error: 1.5234833901897267e-05\n",
      "lambda value: [0.01 0.01]  GCV score: 2.9752511824783885 SSE: 400.0 df: 36.02290989756294\n",
      "sigma: 0.01953921657945986\n",
      "iteration for optimization of coefs and Sigma: 0 , relative error: 0.007893200116084617\n",
      "sigma: 0.01953921109606152\n",
      "iteration for optimization of coefs and Sigma: 1 , relative error: 4.565195935979171e-06\n",
      "lambda value: [0.001 0.001]  GCV score: 4.238906409005969 SSE: 400.0000000000001 df: 62.62171844045913\n",
      "sigma: 0.019538981368799037\n",
      "iteration for optimization of coefs and Sigma: 0 , relative error: 0.00793906111309376\n",
      "sigma: 0.019538977164525836\n",
      "iteration for optimization of coefs and Sigma: 1 , relative error: 4.2377771867690875e-05\n",
      "lambda value: [0.0001 0.0001]  GCV score: 10.763489566885838 SSE: 399.99999999999727 df: 113.78785585022722\n",
      "sigma: 0.01953898311161981\n",
      "iteration for optimization of coefs and Sigma: 0 , relative error: 0.007948130375935055\n",
      "sigma: 0.019538962795249366\n",
      "iteration for optimization of coefs and Sigma: 1 , relative error: 0.00017726648165196701\n",
      "lambda value: [1.e-05 1.e-05]  GCV score: 39.088557538016744 SSE: 400.00000000000455 df: 154.7602525949207\n",
      "sigma: 0.01954945376426354\n",
      "iteration for optimization of coefs and Sigma: 0 , relative error: 0.008290670885288384\n",
      "sigma: 0.019539169566549944\n",
      "iteration for optimization of coefs and Sigma: 1 , relative error: 0.002389579141387295\n",
      "sigma: 0.019648843098228088\n",
      "iteration for optimization of coefs and Sigma: 2 , relative error: 0.0076164622837761745\n",
      "sigma: 0.019539288137588207\n",
      "iteration for optimization of coefs and Sigma: 3 , relative error: 0.007626294144014601\n",
      "sigma: 0.019540888392199394\n",
      "iteration for optimization of coefs and Sigma: 4 , relative error: 0.0010774953233471506\n",
      "lambda value: [1.e-06 1.e-06]  GCV score: 150.37330835025378 SSE: 400.00000000004076 df: 176.93467299426595\n",
      "sigma: 0.01954110738980533\n",
      "iteration for optimization of coefs and Sigma: 0 , relative error: 0.007652284623180766\n",
      "sigma: 0.019541055692594345\n",
      "iteration for optimization of coefs and Sigma: 1 , relative error: 1.5234833901897267e-05\n",
      "val W: -4186.681817726437  val P0: -47.50796428143212\n",
      "value of loglikelihood:  8437.929827827753\n",
      "relative error:  21.131990590394707\n",
      "-------------- Iteration 3 / 10  --------------\n",
      "___ E step ___\n",
      "___ M step ___\n",
      "sigma: 0.019309246520533046\n",
      "iteration for optimization of coefs and Sigma: 0 , relative error: 0.0038093335999592384\n",
      "sigma: 0.019309174923967866\n",
      "iteration for optimization of coefs and Sigma: 1 , relative error: 1.8183464382815803e-05\n",
      "lambda value: [0.01 0.01]  GCV score: 2.9826667678315797 SSE: 399.9999999999999 df: 36.22687885346497\n",
      "sigma: 0.01930681436633577\n",
      "iteration for optimization of coefs and Sigma: 0 , relative error: 0.004218837294542655\n",
      "sigma: 0.01930680825876674\n",
      "iteration for optimization of coefs and Sigma: 1 , relative error: 4.9340946740242945e-06\n",
      "lambda value: [0.001 0.001]  GCV score: 4.267073706394573 SSE: 399.99999999999994 df: 63.075891743542975\n",
      "sigma: 0.019306563595381906\n",
      "iteration for optimization of coefs and Sigma: 0 , relative error: 0.004301979268515513\n",
      "sigma: 0.01930656490244844\n",
      "iteration for optimization of coefs and Sigma: 1 , relative error: 2.1026553053192945e-05\n",
      "lambda value: [0.0001 0.0001]  GCV score: 6.170313148943753 SSE: 400.0000000000004 df: 86.13470103125306\n",
      "sigma: 0.01930668474628001\n",
      "iteration for optimization of coefs and Sigma: 0 , relative error: 0.004326816227525865\n",
      "sigma: 0.019306555847284555\n",
      "iteration for optimization of coefs and Sigma: 1 , relative error: 0.00032728504158262457\n",
      "lambda value: [1.e-05 1.e-05]  GCV score: 55.71372192508905 SSE: 400.0000000000006 df: 162.10657093490033\n",
      "sigma: 0.01930690620791102\n",
      "iteration for optimization of coefs and Sigma: 0 , relative error: 0.004343984341598951\n",
      "sigma: 0.019306743524778843\n",
      "iteration for optimization of coefs and Sigma: 1 , relative error: 0.0005281272216829242\n",
      "lambda value: [1.e-06 1.e-06]  GCV score: 12.14985251684938 SSE: 399.99999999998903 df: 118.85542491718202\n",
      "sigma: 0.019309246520533046\n",
      "iteration for optimization of coefs and Sigma: 0 , relative error: 0.0038093335999592384\n",
      "sigma: 0.019309174923967866\n",
      "iteration for optimization of coefs and Sigma: 1 , relative error: 1.8183464382815803e-05\n",
      "val W: -4189.024724104978  val P0: -48.10865073658296\n",
      "value of loglikelihood:  8450.2332358738\n",
      "relative error:  12.30340804604748\n",
      "-------------- Iteration 4 / 10  --------------\n",
      "___ E step ___\n",
      "___ M step ___\n",
      "sigma: 0.019080288207212092\n",
      "iteration for optimization of coefs and Sigma: 0 , relative error: 0.0022308191940342906\n",
      "sigma: 0.019080201645760634\n",
      "iteration for optimization of coefs and Sigma: 1 , relative error: 2.009850598134948e-05\n",
      "lambda value: [0.01 0.01]  GCV score: 2.9904213964518296 SSE: 400.0 df: 36.43936130326541\n",
      "sigma: 0.019077479583301565\n",
      "iteration for optimization of coefs and Sigma: 0 , relative error: 0.0027935109802086173\n",
      "sigma: 0.01907747330604091\n",
      "iteration for optimization of coefs and Sigma: 1 , relative error: 5.058111155959068e-06\n",
      "lambda value: [0.001 0.001]  GCV score: 4.280578398088223 SSE: 400.00000000000006 df: 63.2920516213218\n",
      "sigma: 0.019077244772439154\n",
      "iteration for optimization of coefs and Sigma: 0 , relative error: 0.0029122816905310213\n",
      "sigma: 0.019077230371126613\n",
      "iteration for optimization of coefs and Sigma: 1 , relative error: 8.395575360788091e-05\n",
      "lambda value: [0.0001 0.0001]  GCV score: 10.460477295511263 SSE: 399.9999999999997 df: 112.5481013268574\n",
      "sigma: 0.01907725702637788\n",
      "iteration for optimization of coefs and Sigma: 0 , relative error: 0.002937083216932638\n",
      "sigma: 0.01907722025260663\n",
      "iteration for optimization of coefs and Sigma: 1 , relative error: 0.00019974149839195078\n",
      "lambda value: [1.e-05 1.e-05]  GCV score: 36.630058839809166 SSE: 400.0000000000034 df: 153.26672838562325\n",
      "sigma: 0.019077225437465723\n",
      "iteration for optimization of coefs and Sigma: 0 , relative error: 0.0029368624773700104\n",
      "sigma: 0.019139469802440443\n",
      "iteration for optimization of coefs and Sigma: 1 , relative error: 0.005640624463156618\n",
      "sigma: 0.0192418680012098\n",
      "iteration for optimization of coefs and Sigma: 2 , relative error: 0.010778716811333548\n",
      "sigma: 0.019079755203853768\n",
      "iteration for optimization of coefs and Sigma: 3 , relative error: 0.00923882851530206\n",
      "sigma: 0.019077463063183843\n",
      "iteration for optimization of coefs and Sigma: 4 , relative error: 0.001200207212308734\n",
      "lambda value: [1.e-06 1.e-06]  GCV score: 447.1503694008372 SSE: 400.00000000000546 df: 186.6242483495077\n",
      "sigma: 0.019080288207212092\n",
      "iteration for optimization of coefs and Sigma: 0 , relative error: 0.0022308191940342906\n",
      "sigma: 0.019080201645760634\n",
      "iteration for optimization of coefs and Sigma: 1 , relative error: 2.009850598134948e-05\n",
      "val W: -4189.866204691925  val P0: -48.535432232119106\n",
      "value of loglikelihood:  8460.890378633767\n",
      "relative error:  10.657142759966518\n",
      "-------------- Iteration 5 / 10  --------------\n",
      "___ E step ___\n",
      "___ M step ___\n",
      "sigma: 0.018854783937977893\n",
      "iteration for optimization of coefs and Sigma: 0 , relative error: 0.0015122172594335477\n",
      "sigma: 0.018854686452928274\n",
      "iteration for optimization of coefs and Sigma: 1 , relative error: 2.1346919044350143e-05\n",
      "lambda value: [0.01 0.01]  GCV score: 2.997895765815315 SSE: 399.99999999999994 df: 36.64338366888545\n",
      "sigma: 0.01885171493437913\n",
      "iteration for optimization of coefs and Sigma: 0 , relative error: 0.002185592015819205\n",
      "sigma: 0.018851708678927975\n",
      "iteration for optimization of coefs and Sigma: 1 , relative error: 5.067847473007661e-06\n",
      "lambda value: [0.001 0.001]  GCV score: 4.313591707338862 SSE: 400.0 df: 63.81619142124764\n",
      "sigma: 0.018851472584005758\n",
      "iteration for optimization of coefs and Sigma: 0 , relative error: 0.0023266375646732377\n",
      "sigma: 0.01885150101996358\n",
      "iteration for optimization of coefs and Sigma: 1 , relative error: 0.00011842945412876324\n",
      "lambda value: [0.0001 0.0001]  GCV score: 10.276625283171441 SSE: 399.99999999999864 df: 111.76929835238204\n",
      "sigma: 0.018851537890502867\n",
      "iteration for optimization of coefs and Sigma: 0 , relative error: 0.002360508657635397\n",
      "sigma: 0.018851456160363385\n",
      "iteration for optimization of coefs and Sigma: 1 , relative error: 0.00024137596281032867\n",
      "lambda value: [1.e-05 1.e-05]  GCV score: 46.43605078014984 SSE: 400.0000000000023 df: 158.49338136027728\n",
      "sigma: 0.01885185615409785\n",
      "iteration for optimization of coefs and Sigma: 0 , relative error: 0.0024005961658663355\n",
      "sigma: 0.01885602981909566\n",
      "iteration for optimization of coefs and Sigma: 1 , relative error: 0.0016216852293351096\n",
      "sigma: 0.01885310955922314\n",
      "iteration for optimization of coefs and Sigma: 2 , relative error: 0.001498772334233764\n",
      "sigma: 0.018851714414078388\n",
      "iteration for optimization of coefs and Sigma: 3 , relative error: 0.0009496412662047463\n",
      "lambda value: [1.e-06 1.e-06]  GCV score: 160.09248356348456 SSE: 399.9999999999901 df: 177.64577991021682\n",
      "sigma: 0.018854783937977893\n",
      "iteration for optimization of coefs and Sigma: 0 , relative error: 0.0015122172594335477\n",
      "sigma: 0.018854686452928274\n",
      "iteration for optimization of coefs and Sigma: 1 , relative error: 2.1346919044350143e-05\n",
      "val W: -4190.303411921609  val P0: -48.87003922741174\n",
      "value of loglikelihood:  8471.049087973473\n",
      "relative error:  10.158709339706547\n",
      "-------------- Iteration 6 / 10  --------------\n",
      "___ E step ___\n",
      "___ M step ___\n",
      "sigma: 0.018632877797161884\n",
      "iteration for optimization of coefs and Sigma: 0 , relative error: 0.0011342925580487499\n",
      "sigma: 0.018632772680987952\n",
      "iteration for optimization of coefs and Sigma: 1 , relative error: 2.213060791192402e-05\n",
      "lambda value: [0.01 0.01]  GCV score: 3.005423950893298 SSE: 399.9999999999999 df: 36.84810518828935\n",
      "sigma: 0.018629635424108656\n",
      "iteration for optimization of coefs and Sigma: 0 , relative error: 0.0018781979840990471\n",
      "sigma: 0.018629629259187732\n",
      "iteration for optimization of coefs and Sigma: 1 , relative error: 5.031411391941579e-06\n",
      "lambda value: [0.001 0.001]  GCV score: 4.334466939992162 SSE: 400.0000000000001 df: 64.14452474118082\n",
      "sigma: 0.01862940110264755\n",
      "iteration for optimization of coefs and Sigma: 0 , relative error: 0.002033009680635344\n",
      "sigma: 0.018629399675026335\n",
      "iteration for optimization of coefs and Sigma: 1 , relative error: 2.0168970556497923e-05\n",
      "lambda value: [0.0001 0.0001]  GCV score: 10.3444601755466 SSE: 399.99999999999824 df: 112.0590652598641\n",
      "sigma: 0.018629891996405967\n",
      "iteration for optimization of coefs and Sigma: 0 , relative error: 0.0021239883024993197\n",
      "sigma: 0.018629399264794125\n",
      "iteration for optimization of coefs and Sigma: 1 , relative error: 0.0005266342072295162\n",
      "lambda value: [1.e-05 1.e-05]  GCV score: 24.491890062012903 SSE: 400.00000000000176 df: 142.84768285487627\n",
      "sigma: 0.018695372738604287\n",
      "iteration for optimization of coefs and Sigma: 0 , relative error: 0.006112194944053295\n",
      "sigma: 0.018635113505461324\n",
      "iteration for optimization of coefs and Sigma: 1 , relative error: 0.00606169349220124\n",
      "sigma: 0.018630609382662727\n",
      "iteration for optimization of coefs and Sigma: 2 , relative error: 0.0018552626510288332\n",
      "sigma: 0.01862945281286566\n",
      "iteration for optimization of coefs and Sigma: 3 , relative error: 0.0008285920822433716\n",
      "lambda value: [1.e-06 1.e-06]  GCV score: 83.877626366584 SSE: 400.0000000000018 df: 169.1168260572617\n",
      "sigma: 0.018632877797161884\n",
      "iteration for optimization of coefs and Sigma: 0 , relative error: 0.0011342925580487499\n",
      "sigma: 0.018632772680987952\n",
      "iteration for optimization of coefs and Sigma: 1 , relative error: 2.213060791192402e-05\n",
      "val W: -4190.586771850558  val P0: -49.14798294535569\n",
      "value of loglikelihood:  8480.979781384682\n",
      "relative error:  9.930693411208267\n",
      "-------------- Iteration 7 / 10  --------------\n",
      "___ E step ___\n",
      "___ M step ___\n",
      "sigma: 0.018414582142747944\n",
      "iteration for optimization of coefs and Sigma: 0 , relative error: 0.0009055716574185363\n",
      "lambda value: [0.01 0.01]  GCV score: 3.01314803496665 SSE: 400.0000000000001 df: 37.05735604350592\n",
      "sigma: 0.01841123284937354\n",
      "iteration for optimization of coefs and Sigma: 0 , relative error: 0.001693264691316294\n",
      "sigma: 0.01841122683167596\n",
      "iteration for optimization of coefs and Sigma: 1 , relative error: 4.9663918575512906e-06\n",
      "lambda value: [0.001 0.001]  GCV score: 4.356144040689649 SSE: 400.0 df: 64.48296920171276\n",
      "sigma: 0.018411007417735808\n",
      "iteration for optimization of coefs and Sigma: 0 , relative error: 0.0018561038469929363\n",
      "sigma: 0.01841100517252188\n",
      "iteration for optimization of coefs and Sigma: 1 , relative error: 3.6534099457486876e-05\n",
      "lambda value: [0.0001 0.0001]  GCV score: 10.339730121467644 SSE: 399.99999999999955 df: 112.03895265485528\n",
      "sigma: 0.01841190208907484\n",
      "iteration for optimization of coefs and Sigma: 0 , relative error: 0.00199543244050698\n",
      "sigma: 0.01841104392368281\n",
      "iteration for optimization of coefs and Sigma: 1 , relative error: 0.0006881421148905372\n",
      "lambda value: [1.e-05 1.e-05]  GCV score: 0.5832096031769337 SSE: 399.99999999999795 df: -170.36732108344086\n",
      "sigma: 0.018411268122188042\n",
      "iteration for optimization of coefs and Sigma: 0 , relative error: 0.001927623260031226\n",
      "sigma: 0.01841108601961609\n",
      "iteration for optimization of coefs and Sigma: 1 , relative error: 0.00041273273510481693\n",
      "lambda value: [1.e-06 1.e-06]  GCV score: 50.94856290604531 SSE: 400.0000000000106 df: 160.37411048888868\n",
      "sigma: 0.01841190208907484\n",
      "iteration for optimization of coefs and Sigma: 0 , relative error: 0.00199543244050698\n",
      "sigma: 0.01841104392368281\n",
      "iteration for optimization of coefs and Sigma: 1 , relative error: 0.0006881421148905372\n",
      "val W: -4190.793876284668  val P0: -49.38764244993755\n",
      "value of loglikelihood:  8495.696903910148\n",
      "relative error:  14.717122525466038\n",
      "-------------- Iteration 8 / 10  --------------\n",
      "___ E step ___\n",
      "___ M step ___\n",
      "sigma: 0.018199553041399558\n",
      "iteration for optimization of coefs and Sigma: 0 , relative error: 0.0009346279615971858\n",
      "lambda value: [0.01 0.01]  GCV score: 3.021111510455798 SSE: 400.00000000000006 df: 37.272251450138974\n",
      "sigma: 0.018193676739673956\n",
      "iteration for optimization of coefs and Sigma: 0 , relative error: 0.0014397489987406787\n",
      "sigma: 0.01819366053131495\n",
      "iteration for optimization of coefs and Sigma: 1 , relative error: 7.647918247985857e-06\n",
      "lambda value: [0.001 0.001]  GCV score: 4.3792743101642895 SSE: 399.9999999999999 df: 64.84132713538642\n",
      "sigma: 0.01819299896670948\n",
      "iteration for optimization of coefs and Sigma: 0 , relative error: 0.0016297602684778492\n",
      "sigma: 0.018192979616447186\n",
      "iteration for optimization of coefs and Sigma: 1 , relative error: 7.365475917978715e-05\n",
      "lambda value: [0.0001 0.0001]  GCV score: 11.549045164554745 SSE: 400.0000000000008 df: 116.77152183310929\n",
      "sigma: 0.018295586744640515\n",
      "iteration for optimization of coefs and Sigma: 0 , relative error: 0.00726112258302173\n",
      "sigma: 0.01819300467950816\n",
      "iteration for optimization of coefs and Sigma: 1 , relative error: 0.007131306058688976\n",
      "sigma: 0.01820040674777892\n",
      "iteration for optimization of coefs and Sigma: 2 , relative error: 0.0018973873523548492\n",
      "sigma: 0.01819305293987676\n",
      "iteration for optimization of coefs and Sigma: 3 , relative error: 0.0019269873122248575\n",
      "sigma: 0.018227313937478347\n",
      "iteration for optimization of coefs and Sigma: 4 , relative error: 0.004130379728680684\n",
      "lambda value: [1.e-05 1.e-05]  GCV score: 37.18899572390586 SSE: 400.00000000002177 df: 153.6192498819094\n",
      "sigma: 0.018194831398147177\n",
      "iteration for optimization of coefs and Sigma: 0 , relative error: 0.001934487313738501\n",
      "sigma: 0.01819483947348814\n",
      "iteration for optimization of coefs and Sigma: 1 , relative error: 0.0014540625833119338\n",
      "sigma: 0.01819354894616925\n",
      "iteration for optimization of coefs and Sigma: 2 , relative error: 0.0011947147256798725\n",
      "sigma: 0.018197866114253974\n",
      "iteration for optimization of coefs and Sigma: 3 , relative error: 0.0016680633441185865\n",
      "sigma: 0.01820041638820087\n",
      "iteration for optimization of coefs and Sigma: 4 , relative error: 0.0027196398083436544\n",
      "lambda value: [1.e-06 1.e-06]  GCV score: 159.98198175662336 SSE: 400.0000000005447 df: 177.63806105560374\n",
      "sigma: 0.018199553041399558\n",
      "iteration for optimization of coefs and Sigma: 0 , relative error: 0.0009346279615971858\n",
      "val W: -4191.122969263764  val P0: -49.59978842000041\n",
      "value of loglikelihood:  8500.437105174165\n",
      "relative error:  4.740201264017742\n",
      "-------------- Iteration 9 / 10  --------------\n",
      "___ E step ___\n",
      "___ M step ___\n",
      "sigma: 0.017989334538695487\n",
      "iteration for optimization of coefs and Sigma: 0 , relative error: 0.0006176869160796983\n",
      "lambda value: [0.01 0.01]  GCV score: 3.0285986689874367 SSE: 400.0000000000002 df: 37.47351984429869\n",
      "sigma: 0.017985049602719388\n",
      "iteration for optimization of coefs and Sigma: 0 , relative error: 0.0013918139880877937\n",
      "sigma: 0.01798504247749166\n",
      "iteration for optimization of coefs and Sigma: 1 , relative error: 5.4330871387987905e-06\n",
      "lambda value: [0.001 0.001]  GCV score: 4.406105252719425 SSE: 400.00000000000017 df: 65.25347936948617\n",
      "sigma: 0.017984798607414976\n",
      "iteration for optimization of coefs and Sigma: 0 , relative error: 0.0015795225994711993\n",
      "sigma: 0.01798480327309854\n",
      "iteration for optimization of coefs and Sigma: 1 , relative error: 5.4431239807304014e-05\n",
      "lambda value: [0.0001 0.0001]  GCV score: 10.822941183447881 SSE: 399.9999999999956 df: 114.02496835582565\n",
      "sigma: 0.017984917670638756\n",
      "iteration for optimization of coefs and Sigma: 0 , relative error: 0.001632790200133291\n",
      "sigma: 0.01798489647032042\n",
      "iteration for optimization of coefs and Sigma: 1 , relative error: 0.00035267857513780434\n",
      "lambda value: [1.e-05 1.e-05]  GCV score: 52.11779306570252 SSE: 399.9999999999953 df: 160.8211228711143\n",
      "sigma: 0.017985686306162485\n",
      "iteration for optimization of coefs and Sigma: 0 , relative error: 0.001753075258547717\n",
      "sigma: 0.017987355116327743\n",
      "iteration for optimization of coefs and Sigma: 1 , relative error: 0.0013506189846639693\n",
      "sigma: 0.01800498721616885\n",
      "iteration for optimization of coefs and Sigma: 2 , relative error: 0.003080212330606502\n",
      "sigma: 0.017984919350444637\n",
      "iteration for optimization of coefs and Sigma: 3 , relative error: 0.0031129505367836824\n",
      "sigma: 0.017984848424701397\n",
      "iteration for optimization of coefs and Sigma: 4 , relative error: 0.00032632014900327576\n",
      "lambda value: [1.e-06 1.e-06]  GCV score: 47.210408151171194 SSE: 400.000000000001 df: 158.8351899308479\n",
      "sigma: 0.017989334538695487\n",
      "iteration for optimization of coefs and Sigma: 0 , relative error: 0.0006176869160796983\n",
      "val W: -4191.191593460718  val P0: -49.79104518743656\n",
      "value of loglikelihood:  8509.993888503599\n",
      "relative error:  9.556783329433529\n",
      "-------------- Iteration 10 / 10  --------------\n",
      "___ E step ___\n",
      "___ M step ___\n",
      "sigma: 0.017782131623491154\n",
      "iteration for optimization of coefs and Sigma: 0 , relative error: 0.0005294397676385681\n",
      "lambda value: [0.01 0.01]  GCV score: 3.0361996156588322 SSE: 399.99999999999994 df: 37.677085056371546\n",
      "sigma: 0.0177782469243346\n",
      "iteration for optimization of coefs and Sigma: 0 , relative error: 0.0013460008281907787\n",
      "sigma: 0.017778241008275367\n",
      "iteration for optimization of coefs and Sigma: 1 , relative error: 4.925455299011839e-06\n",
      "lambda value: [0.001 0.001]  GCV score: 4.427869870169497 SSE: 400.00000000000006 df: 65.58505180486539\n",
      "sigma: 0.017778033506856996\n",
      "iteration for optimization of coefs and Sigma: 0 , relative error: 0.0015250666512048447\n",
      "sigma: 0.01777803315406196\n",
      "iteration for optimization of coefs and Sigma: 1 , relative error: 2.2612371459759344e-05\n",
      "lambda value: [0.0001 0.0001]  GCV score: 5.692882372577235 SSE: 400.00000000000045 df: 81.45618811044969\n",
      "sigma: 0.017778597135498172\n",
      "iteration for optimization of coefs and Sigma: 0 , relative error: 0.0016457332893789383\n",
      "sigma: 0.0177790788124881\n",
      "iteration for optimization of coefs and Sigma: 1 , relative error: 0.0009367226471894434\n",
      "lambda value: [1.e-05 1.e-05]  GCV score: 99.78747162838101 SSE: 399.9999999999175 df: 171.68562470875474\n",
      "sigma: 0.01777845173836975\n",
      "iteration for optimization of coefs and Sigma: 0 , relative error: 0.0016197529952688796\n",
      "sigma: 0.017778043648349146\n",
      "iteration for optimization of coefs and Sigma: 1 , relative error: 0.0004566783811515356\n",
      "lambda value: [1.e-06 1.e-06]  GCV score: 32.83152135431466 SSE: 399.99999999999585 df: 150.63723369793254\n",
      "sigma: 0.017782131623491154\n",
      "iteration for optimization of coefs and Sigma: 0 , relative error: 0.0005294397676385681\n",
      "val W: -4191.272935726595  val P0: -49.965903309238215\n",
      "value of loglikelihood:  8519.502156487983\n",
      "relative error:  9.508267984383565\n",
      "End. \n",
      " Number of iterations: 10 , total duration: 169.96508479118347  seconds.\n"
     ]
    }
   ],
   "source": [
    "FS_statespace = FrenetStateSpace(grid, Y)\n",
    "P0 = 0.001**2*np.eye(6)\n",
    "sigma_1 = 0.02\n",
    "sigma_2 = 0.02\n",
    "Sigma = lambda s: np.array([[sigma_1**2, 0], [0, sigma_2**2]])\n",
    "max_iter = 10\n",
    "tol = 1e-5 \n",
    "reg_param_list = np.array([[0.01,0.01], [0.001,0.001], [0.0001,0.0001], [0.00001,0.00001], [0.000001,0.000001]])\n",
    "tab_results = FS_statespace.expectation_maximization(tol, max_iter, nb_basis=30, regularization_parameter_list=reg_param_list, init_params = {\"W\":W, \"coefs\":coefs_noisy, \"mu0\":mu0, \"Sigma\":Sigma, \"P0\":P0}, init_states = None, method='autre', model_Sigma='single_constant')\n"
   ]
  },
  {
   "cell_type": "code",
   "execution_count": 13,
   "metadata": {},
   "outputs": [],
   "source": [
    "v_grid = (1/2)*(grid[1:]+grid[:-1])\n",
    "\n",
    "\"\"\" Plot loglikelihood \"\"\"\n",
    "visu.plot_array_2D_names(np.linspace(1,10), [FS_statespace.tab_loglikelihood], ['loglikelihood values'])\n",
    "\n",
    "\"\"\" Plot curvatures and torsions \"\"\"\n",
    "visu.plot_array_2D_names(v, [curv(v_grid), theta_kern_noisy(v_grid)[:,0]] + [FS_statespace.tab_theta[i][:,0] for i in range(10)], ['exact param', 'initial guess']+['estimation iteration: '+str(i) for i in range(10)], legend={\"index\":True, \"title\":\"Results curvature\", \"x axis\":\"\", \"y axis\":\"\"})\n",
    "visu.plot_array_2D_names(v, [tors(v_grid), theta_kern_noisy(v_grid)[:,1]] + [FS_statespace.tab_theta[i][:,1] for i in range(10)], ['exact param', 'initial guess']+['estimation iteration: '+str(i) for i in range(10)], legend={\"index\":True, \"title\":\"Results torsion\", \"x axis\":\"\", \"y axis\":\"\"})"
   ]
  },
  {
   "cell_type": "code",
   "execution_count": 20,
   "metadata": {},
   "outputs": [
    {
     "name": "stdout",
     "output_type": "stream",
     "text": [
      "1\n",
      "(200,)\n"
     ]
    }
   ],
   "source": [
    "x = np.zeros(200)\n",
    "print(x.ndim)\n",
    "print(x.shape)"
   ]
  },
  {
   "cell_type": "code",
   "execution_count": 79,
   "metadata": {},
   "outputs": [],
   "source": [
    "from skfda.representation.basis import VectorValued, BSpline\n",
    "from skfda.misc.regularization import TikhonovRegularization, compute_penalty_matrix\n",
    "from skfda.misc.operators import LinearDifferentialOperator\n",
    "list_basis = [BSpline(domain_range=(0,1), n_basis=5, order=4), BSpline(domain_range=(0,1), n_basis=6, order=4)]\n",
    "vect_basis = VectorValued(list_basis)\n",
    "vect_pen_mat = compute_penalty_matrix(basis_iterable=(vect_basis,),regularization_parameter=1,regularization=TikhonovRegularization(LinearDifferentialOperator(2)))\n",
    "basis = list_basis[0]\n",
    "pen_mat = compute_penalty_matrix(basis_iterable=(basis,),regularization_parameter=1,regularization=TikhonovRegularization(LinearDifferentialOperator(2)))"
   ]
  },
  {
   "cell_type": "code",
   "execution_count": 96,
   "metadata": {},
   "outputs": [
    {
     "name": "stdout",
     "output_type": "stream",
     "text": [
      "(2, 3)\n"
     ]
    }
   ],
   "source": [
    "print((np.squeeze(vect_basis.evaluate(np.array([1,2,3]))).T @ np.zeros(11)).shape)\n"
   ]
  },
  {
   "cell_type": "code",
   "execution_count": 75,
   "metadata": {},
   "outputs": [
    {
     "name": "stdout",
     "output_type": "stream",
     "text": [
      "VectorValued(basis_list=(BSpline(domain_range=((0, 1),), n_basis=5, order=4, knots=(0.0, 0.5, 1.0)), BSpline(domain_range=((0, 1),), n_basis=6, order=4, knots=(0.0, 0.3333333333333333, 0.6666666666666666, 1.0))))\n",
      "BSpline(domain_range=((0, 1),), n_basis=5, order=4, knots=(0.0, 0.5, 1.0))\n",
      "[[  96. -132.   24.   12.    0.]\n",
      " [-132.  192.  -48.  -24.   12.]\n",
      " [  24.  -48.   48.  -48.   24.]\n",
      " [  12.  -24.  -48.  192. -132.]\n",
      " [   0.   12.   24. -132.   96.]]\n",
      "(11, 11)\n"
     ]
    }
   ],
   "source": [
    "print(vect_basis)\n",
    "print(basis)\n",
    "print(pen_mat)\n",
    "print(vect_pen_mat.shape)"
   ]
  },
  {
   "cell_type": "code",
   "execution_count": 51,
   "metadata": {},
   "outputs": [
    {
     "name": "stdout",
     "output_type": "stream",
     "text": [
      "(6, 11)\n",
      "(3, 5)\n",
      "[[1.   0.   0.   0.   0.  ]\n",
      " [0.   0.25 0.5  0.25 0.  ]\n",
      " [0.   0.   0.   0.   1.  ]]\n",
      "[[1.   0.   0.   0.   0.  ]\n",
      " [0.   0.25 0.5  0.25 0.  ]\n",
      " [0.   0.   0.   0.   1.  ]]\n"
     ]
    }
   ],
   "source": [
    "V = np.expand_dims(np.linspace(0,1,3), 1)\n",
    "vect_basis_matrix = vect_basis(V,).reshape((vect_basis.n_basis, -1)).T\n",
    "basis_matrix = basis(V,).reshape((basis.n_basis, -1)).T\n",
    "print(vect_basis_matrix.shape)\n",
    "print(basis_matrix.shape)\n",
    "print(vect_basis_matrix[np.array([0,2,4]),:5])\n",
    "print(basis_matrix)"
   ]
  },
  {
   "cell_type": "code",
   "execution_count": 55,
   "metadata": {},
   "outputs": [
    {
     "name": "stdout",
     "output_type": "stream",
     "text": [
      "[[1.   0.   0.   0.   0.   0.   0.   0.   0.   0.   0.  ]\n",
      " [0.   0.06 0.12 0.06 0.   0.   0.   0.   0.   0.   0.  ]\n",
      " [0.   0.12 0.25 0.12 0.   0.   0.   0.   0.   0.   0.  ]\n",
      " [0.   0.06 0.12 0.06 0.   0.   0.   0.   0.   0.   0.  ]\n",
      " [0.   0.   0.   0.   1.   0.   0.   0.   0.   0.   0.  ]\n",
      " [0.   0.   0.   0.   0.   1.   0.   0.   0.   0.   0.  ]\n",
      " [0.   0.   0.   0.   0.   0.   0.   0.01 0.01 0.   0.  ]\n",
      " [0.   0.   0.   0.   0.   0.   0.01 0.22 0.22 0.01 0.  ]\n",
      " [0.   0.   0.   0.   0.   0.   0.01 0.22 0.22 0.01 0.  ]\n",
      " [0.   0.   0.   0.   0.   0.   0.   0.01 0.01 0.   0.  ]\n",
      " [0.   0.   0.   0.   0.   0.   0.   0.   0.   0.   1.  ]]\n",
      "[[1.   0.   0.   0.   0.  ]\n",
      " [0.   0.06 0.12 0.06 0.  ]\n",
      " [0.   0.12 0.25 0.12 0.  ]\n",
      " [0.   0.06 0.12 0.06 0.  ]\n",
      " [0.   0.   0.   0.   1.  ]]\n"
     ]
    }
   ],
   "source": [
    "print(np.round(vect_basis_matrix.T @ vect_basis_matrix, decimals=2))\n",
    "print(np.round(basis_matrix.T @ basis_matrix, decimals=2))"
   ]
  },
  {
   "cell_type": "code",
   "execution_count": 36,
   "metadata": {},
   "outputs": [
    {
     "data": {
      "text/plain": [
       "array([[2, 0, 0],\n",
       "       [0, 3, 3],\n",
       "       [0, 3, 3]])"
      ]
     },
     "execution_count": 36,
     "metadata": {},
     "output_type": "execute_result"
    }
   ],
   "source": [
    "np.array([[2,0,0],[0,3,0],[0,3,0]])@np.array([[1,0,0],[0,1,1], [0,1,1]])"
   ]
  },
  {
   "cell_type": "code",
   "execution_count": 37,
   "metadata": {},
   "outputs": [
    {
     "data": {
      "text/plain": [
       "array([[2, 0, 0],\n",
       "       [0, 3, 0],\n",
       "       [0, 0, 3]])"
      ]
     },
     "execution_count": 37,
     "metadata": {},
     "output_type": "execute_result"
    }
   ],
   "source": [
    "np.diag(np.concatenate((np.repeat(2,1),np.repeat(3,2))))"
   ]
  },
  {
   "cell_type": "code",
   "execution_count": 74,
   "metadata": {},
   "outputs": [
    {
     "name": "stdout",
     "output_type": "stream",
     "text": [
      "[[2. 1.]\n",
      " [2. 1.]\n",
      " [2. 1.]\n",
      " [2. 1.]\n",
      " [2. 1.]]\n",
      "[[2. 0. 0. 0. 0. 0. 0. 0. 0. 0.]\n",
      " [0. 1. 0. 0. 0. 0. 0. 0. 0. 0.]\n",
      " [0. 0. 2. 0. 0. 0. 0. 0. 0. 0.]\n",
      " [0. 0. 0. 1. 0. 0. 0. 0. 0. 0.]\n",
      " [0. 0. 0. 0. 2. 0. 0. 0. 0. 0.]\n",
      " [0. 0. 0. 0. 0. 1. 0. 0. 0. 0.]\n",
      " [0. 0. 0. 0. 0. 0. 2. 0. 0. 0.]\n",
      " [0. 0. 0. 0. 0. 0. 0. 1. 0. 0.]\n",
      " [0. 0. 0. 0. 0. 0. 0. 0. 2. 0.]\n",
      " [0. 0. 0. 0. 0. 0. 0. 0. 0. 1.]]\n",
      "[[2. 0. 0. 0. 0. 0. 0. 0. 0. 0.]\n",
      " [0. 1. 0. 0. 0. 0. 0. 0. 0. 0.]\n",
      " [0. 0. 2. 0. 0. 0. 0. 0. 0. 0.]\n",
      " [0. 0. 0. 1. 0. 0. 0. 0. 0. 0.]\n",
      " [0. 0. 0. 0. 2. 0. 0. 0. 0. 0.]\n",
      " [0. 0. 0. 0. 0. 1. 0. 0. 0. 0.]\n",
      " [0. 0. 0. 0. 0. 0. 2. 0. 0. 0.]\n",
      " [0. 0. 0. 0. 0. 0. 0. 1. 0. 0.]\n",
      " [0. 0. 0. 0. 0. 0. 0. 0. 2. 0.]\n",
      " [0. 0. 0. 0. 0. 0. 0. 0. 0. 1.]]\n"
     ]
    }
   ],
   "source": [
    "x = np.ones((5,2))\n",
    "x[:,0] = 2*x[:,0]\n",
    "print(np.eye(5) @ x)\n",
    "from scipy.linalg import block_diag\n",
    "print(block_diag(*[np.diag(x[i]) for i in range(5)]))\n",
    "print(block_diag(*np.apply_along_axis(np.diag, 1, x)))"
   ]
  },
  {
   "cell_type": "code",
   "execution_count": 77,
   "metadata": {},
   "outputs": [
    {
     "name": "stdout",
     "output_type": "stream",
     "text": [
      "(5, 2)\n",
      "(10,)\n"
     ]
    }
   ],
   "source": [
    "coefs_tem = np.zeros((10))\n",
    "coefs_tem = np.reshape(coefs_tem,(-1,2))\n",
    "print(coefs_tem.shape)\n",
    "new_coefs = np.reshape(coefs_tem, (-1,))\n",
    "print(new_coefs.shape)"
   ]
  },
  {
   "cell_type": "code",
   "execution_count": null,
   "metadata": {},
   "outputs": [],
   "source": []
  }
 ],
 "metadata": {
  "kernelspec": {
   "display_name": "Python 3",
   "language": "python",
   "name": "python3"
  },
  "language_info": {
   "codemirror_mode": {
    "name": "ipython",
    "version": 3
   },
   "file_extension": ".py",
   "mimetype": "text/x-python",
   "name": "python",
   "nbconvert_exporter": "python",
   "pygments_lexer": "ipython3",
   "version": "3.8.10"
  },
  "orig_nbformat": 4
 },
 "nbformat": 4,
 "nbformat_minor": 2
}
