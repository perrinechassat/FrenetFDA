{
 "cells": [
  {
   "cell_type": "code",
   "execution_count": 1,
   "metadata": {},
   "outputs": [],
   "source": [
    "import sys\n",
    "sys.path.insert(1, '../')\n",
    "from FrenetFDA.iek_filter_smoother_Frenet_state import IEKFilterSmootherFrenetState\n",
    "import FrenetFDA.visualization as visu\n",
    "import numpy as np\n",
    "from scipy.integrate import cumtrapz, solve_ivp\n",
    "from sklearn.gaussian_process.kernels import Matern\n",
    "import plotly.graph_objs as go\n",
    "import plotly.express as px\n",
    "from plotly.subplots import make_subplots\n",
    "layout = go.Layout(plot_bgcolor='rgba(0,0,0,0)')\n",
    "import plotly.io as pio\n",
    "pio.renderers.default = 'browser'"
   ]
  },
  {
   "cell_type": "code",
   "execution_count": 11,
   "metadata": {},
   "outputs": [],
   "source": [
    "def generate_mu(theta, grid, mu0):\n",
    "    ode_mu = lambda s,mu: (np.matmul(mu.reshape(4,4),np.array([[0,-theta(s)[0], 0, 1], [theta(s)[0], 0, -theta(s)[1], 0], [0, theta(s)[1], 0, 0], [0, 0, 0, 0]]))).flatten()\n",
    "    sol_mu = solve_ivp(ode_mu, t_span=(0,1), y0=mu0.flatten(), t_eval=grid, method='Radau')\n",
    "    mu = sol_mu.y.reshape(4,4,len(grid))\n",
    "    mu = np.moveaxis(mu, -1, 0)\n",
    "    mu_Q = mu[:,:3,:3]\n",
    "    mu_X = mu[:,:3,3] \n",
    "    return mu, mu_Q, mu_X\n",
    "\n",
    "def generate_Y(X, gamma):\n",
    "    W = gamma**2*np.eye(3)\n",
    "    Y = X[1:] + np.random.multivariate_normal(np.zeros(3), W, size=(len(X)-1))\n",
    "    return Y\n",
    "\n",
    "color_list = px.colors.qualitative.Plotly\n",
    "def plot_res_Z(kf, Q_true, Q_mu, X_true, X_mu, Y, title=''):\n",
    "\n",
    "    fig = make_subplots(rows=2, cols=2, subplot_titles=(\"Tangent Vector\", \"Normal Vector\", \"Binormal Vector\", \"X\"), specs=[[{\"type\": \"scene\"}, {\"type\": \"scene\"}],\n",
    "           [{\"type\": \"scene\"}, {\"type\": \"scene\"}]],)\n",
    "    # T \n",
    "    fig.add_trace(go.Scatter3d(x=Q_true[:,:,0][:,0],y=Q_true[:,:,0][:,1],z=Q_true[:,:,0][:,2],name='True',mode='lines',line=dict(width=3,  color=color_list[0])), row=1, col=1)\n",
    "    fig.add_trace(go.Scatter3d(x=Q_mu[:,:,0][:,0],y=Q_mu[:,:,0][:,1],z=Q_mu[:,:,0][:,2],name='Init',mode='lines',line=dict(width=3,  color=color_list[1])), row=1, col=1)\n",
    "    fig.add_trace(go.Scatter3d(x=kf.track_Q[:,:,0][:,0],y=kf.track_Q[:,:,0][:,1],z=kf.track_Q[:,:,0][:,2],name='Track',mode='lines',line=dict(width=3,  color=color_list[2])), row=1, col=1)\n",
    "    fig.add_trace(go.Scatter3d(x=kf.smooth_Q[:,:,0][:,0],y=kf.smooth_Q[:,:,0][:,1],z=kf.smooth_Q[:,:,0][:,2],name='Smooth',mode='lines',line=dict(width=3,  color=color_list[3])), row=1, col=1)\n",
    "    # N \n",
    "    fig.add_trace(go.Scatter3d(x=Q_true[:,:,1][:,0],y=Q_true[:,:,1][:,1],z=Q_true[:,:,1][:,2],name='True',mode='lines',line=dict(width=3,  color=color_list[0])), row=1, col=2)\n",
    "    fig.add_trace(go.Scatter3d(x=Q_mu[:,:,1][:,0],y=Q_mu[:,:,1][:,1],z=Q_mu[:,:,1][:,2],name='Init',mode='lines',line=dict(width=3, color=color_list[1])), row=1, col=2)\n",
    "    fig.add_trace(go.Scatter3d(x=kf.track_Q[:,:,1][:,0],y=kf.track_Q[:,:,1][:,1],z=kf.track_Q[:,:,1][:,2],name='Track',mode='lines',line=dict(width=3, color=color_list[2])), row=1, col=2)\n",
    "    fig.add_trace(go.Scatter3d(x=kf.smooth_Q[:,:,1][:,0],y=kf.smooth_Q[:,:,1][:,1],z=kf.smooth_Q[:,:,1][:,2],name='Smooth',mode='lines',line=dict(width=3,  color=color_list[3])), row=1, col=2)\n",
    "    # B\n",
    "    fig.add_trace(go.Scatter3d(x=Q_true[:,:,2][:,0],y=Q_true[:,:,2][:,1],z=Q_true[:,:,2][:,2],name='True',mode='lines',line=dict(width=3, color=color_list[0])), row=2, col=1)\n",
    "    fig.add_trace(go.Scatter3d(x=Q_mu[:,:,2][:,0],y=Q_mu[:,:,2][:,1],z=Q_mu[:,:,2][:,2],name='Init',mode='lines',line=dict(width=3, color=color_list[1])), row=2, col=1)\n",
    "    fig.add_trace(go.Scatter3d(x=kf.track_Q[:,:,2][:,0],y=kf.track_Q[:,:,2][:,1],z=kf.track_Q[:,:,2][:,2],name='Track',mode='lines',line=dict(width=3, color=color_list[2])), row=2, col=1)\n",
    "    fig.add_trace(go.Scatter3d(x=kf.smooth_Q[:,:,2][:,0],y=kf.smooth_Q[:,:,2][:,1],z=kf.smooth_Q[:,:,2][:,2],name='Smooth',mode='lines',line=dict(width=3, color=color_list[3])), row=2, col=1)\n",
    "    # X \n",
    "    fig.add_trace(go.Scatter3d(x=X_true[:,0],y=X_true[:,1],z=X_true[:,2],name='True',mode='lines',line=dict(width=3,  color=color_list[0])), row=2, col=2)\n",
    "    fig.add_trace(go.Scatter3d(x=X_mu[:,0],y=X_mu[:,1],z=X_mu[:,2],name='Init',mode='lines',line=dict(width=3, color=color_list[1])), row=2, col=2)\n",
    "    fig.add_trace(go.Scatter3d(x=kf.track_X[:,0],y=kf.track_X[:,1],z=kf.track_X[:,2],name='Track',mode='lines',line=dict(width=3, color=color_list[2])), row=2, col=2)\n",
    "    fig.add_trace(go.Scatter3d(x=kf.smooth_X[:,0],y=kf.smooth_X[:,1],z=kf.smooth_X[:,2],name='Smooth',mode='lines',line=dict(width=3, color=color_list[3])), row=2, col=2)\n",
    "    fig.add_trace(go.Scatter3d(x=Y[:,0],y=Y[:,1],z=Y[:,2],name='Observations',mode='lines',line=dict(width=3, color=color_list[4])), row=2, col=2)\n",
    "\n",
    "    fig.update_xaxes(showline=True, showgrid=False, linewidth=1, linecolor='black')\n",
    "    fig.update_yaxes(showline=True, showgrid=False, linewidth=1, linecolor='black')\n",
    "    fig.update_layout(title_text=title)\n",
    "    fig.show()\n",
    "\n",
    "N = 200\n",
    "grid = np.linspace(0,1,N+1)\n",
    "\n",
    "\n",
    "\"\"\" __________ Definition of exact function Theta ___________ \"\"\"\n",
    "\n",
    "curv = lambda s : 2*np.cos(2*np.pi*s) + 5\n",
    "tors = lambda s : 2*np.sin(2*np.pi*s) + 1\n",
    "\n",
    "def theta(s):\n",
    "    if isinstance(s, int) or isinstance(s, float):\n",
    "        return np.array([curv(s), tors(s)])\n",
    "    elif isinstance(s, np.ndarray):\n",
    "        return np.vstack((curv(s), tors(s))).T\n",
    "    else:\n",
    "        raise ValueError('Variable is not a float, a int or a NumPy array.')\n",
    "    \n",
    "def warping(s,a):\n",
    "    if np.abs(a)<1e-15:\n",
    "        return s\n",
    "    else:\n",
    "        return (np.exp(a*s) - 1)/(np.exp(a) - 1)\n",
    "    \n",
    "warp_grid = warping(grid, 2)\n",
    "    \n",
    "\"\"\" __________ Definition of states and noisy observations __________ \"\"\"\n",
    "\n",
    "mu0 = np.eye(4)\n",
    "mu_Z, mu_Q, mu_X = generate_mu(theta, warp_grid, mu0)\n",
    "\n",
    "gamma = 0.001\n",
    "W = gamma**2*np.eye(3)\n",
    "Y = generate_Y(mu_X, gamma)"
   ]
  },
  {
   "cell_type": "code",
   "execution_count": 3,
   "metadata": {},
   "outputs": [],
   "source": [
    "visu.plot_3D([mu_X, Y], ['X', 'Y'])"
   ]
  },
  {
   "cell_type": "code",
   "execution_count": 8,
   "metadata": {},
   "outputs": [],
   "source": [
    "### Kernel representation of true theta\n",
    "    \n",
    "nu = 1.5\n",
    "l = 1.0\n",
    "kernel = 1.0 * Matern(length_scale=l, nu=nu)\n",
    "v = (grid[1:] + grid[:-1])/2\n",
    "rho = np.array([1,0,0])\n",
    "V = np.expand_dims(v, 1)\n",
    "y = np.vstack((curv(v),tors(v))).T.reshape((len(v)*2,1))\n",
    "K_VV = np.kron(kernel(V,V),np.eye(2))\n",
    "true_coefs = np.linalg.solve(K_VV,y)\n",
    "\n",
    "def separable_kernel(x,y):\n",
    "    return np.kron(kernel(x,y),np.eye(2))\n",
    "\n",
    "def theta_kern(s):\n",
    "    if isinstance(s, int) or isinstance(s, float):\n",
    "            return np.squeeze(np.kron(kernel(v[:,np.newaxis], np.array([s])[:,np.newaxis]),np.eye(2)).T @ true_coefs)\n",
    "    elif isinstance(s, np.ndarray):\n",
    "        return np.reshape(np.kron(kernel(v[:,np.newaxis], s[:,np.newaxis]),np.eye(2)).T @ true_coefs, (-1,2))\n",
    "    else:\n",
    "        raise ValueError('Variable is not a float, a int or a NumPy array.')\n",
    "    \n",
    "sigma_theta = 2\n",
    "val_noisy = theta_kern(v) + np.random.multivariate_normal(np.zeros(2), sigma_theta**2*np.eye(2), size=len(v))\n",
    "\n",
    "# Kernel representation \n",
    "lbda = 0.3\n",
    "coefs_noisy = np.linalg.solve((K_VV+lbda*np.eye(len(v)*2)),val_noisy.reshape((len(v)*2,1)))\n",
    "coefs_noisy = np.reshape(coefs_noisy,(-1,2))\n",
    "coefs_noisy = np.reshape(coefs_noisy, (-1,))\n",
    "theta_noisy_arr = np.reshape(K_VV.T @ coefs_noisy, (-1,2))\n",
    "\n",
    "def theta_kern_noisy(s):\n",
    "    if isinstance(s, int) or isinstance(s, float):\n",
    "            return np.squeeze(np.kron(kernel(v[:,np.newaxis], np.array([s])[:,np.newaxis]),np.eye(2)).T @ coefs_noisy)\n",
    "    elif isinstance(s, np.ndarray):\n",
    "        return np.reshape(np.kron(kernel(v[:,np.newaxis], s[:,np.newaxis]),np.eye(2)).T @ coefs_noisy, (-1,2))\n",
    "    else:\n",
    "        raise ValueError('Variable is not a float, a int or a NumPy array.')\n",
    "    \n",
    "def a_theta_kern_noisy(s):\n",
    "    if isinstance(s, int) or isinstance(s, float):\n",
    "        return np.array([theta_kern_noisy(s)[1], 0, theta_kern_noisy(s)[0]])\n",
    "    elif isinstance(s, np.ndarray):\n",
    "        return np.vstack((theta_kern_noisy(s)[:,1], np.zeros(N), theta_kern_noisy(s)[:,0])).T\n",
    "    else:\n",
    "        raise ValueError('Variable is not a float, a int or a NumPy array.')\n",
    "    \n",
    "def omega_theta_kern_noisy(s):\n",
    "    if isinstance(s, int) or isinstance(s, float):\n",
    "        return np.hstack((a_theta_kern_noisy(s),rho))\n",
    "    elif isinstance(s, np.ndarray):\n",
    "        return np.hstack((a_theta_kern_noisy(s), np.stack((np.tile(rho, (len(a_theta_kern_noisy(s)),1))))))\n",
    "    else:\n",
    "        raise ValueError('Variable is not a float, a int or a NumPy array.')"
   ]
  },
  {
   "cell_type": "code",
   "execution_count": 16,
   "metadata": {},
   "outputs": [],
   "source": [
    "visu.plot_array_2D_names(v, [curv(v), val_noisy[:,0], theta_kern_noisy(v)[:,0]], ['exact_function', 'noisy initial guess', 'kernel representation initial guess'])\n",
    "visu.plot_array_2D_names(v, [tors(v), val_noisy[:,1], theta_kern_noisy(v)[:,1]], ['exact_function', 'noisy initial guess', 'kernel representation initial guess'])"
   ]
  },
  {
   "cell_type": "code",
   "execution_count": 12,
   "metadata": {},
   "outputs": [],
   "source": [
    "sigma = 0.02\n",
    "Sigma = lambda s: sigma**2*np.eye(2)\n",
    "\n",
    "P0 = (0.0001**2)*np.eye(6)\n",
    "\n",
    "kf = IEKFilterSmootherFrenetState(3, W, Sigma, theta_kern_noisy, Z0=mu0, P0=P0, K_pts=5) \n",
    "kf.smoothing(warp_grid,Y)"
   ]
  },
  {
   "cell_type": "code",
   "execution_count": 13,
   "metadata": {},
   "outputs": [],
   "source": [
    "mu_Z_noisy, mu_Q_noisy, mu_X_noisy = generate_mu(theta_kern_noisy, warp_grid, mu0)\n",
    "plot_res_Z(kf, mu_Q, mu_Q_noisy, mu_X, mu_X_noisy, Y, title='test tracking from wrong a_theta')"
   ]
  },
  {
   "cell_type": "code",
   "execution_count": 6,
   "metadata": {},
   "outputs": [
    {
     "name": "stdout",
     "output_type": "stream",
     "text": [
      "(6, 2)\n"
     ]
    }
   ],
   "source": [
    "print(kf.L.shape)"
   ]
  },
  {
   "cell_type": "code",
   "execution_count": 14,
   "metadata": {},
   "outputs": [
    {
     "data": {
      "text/plain": [
       "array([[0.0004, 0.    , 0.    , 0.    , 0.    , 0.    ],\n",
       "       [0.    , 0.    , 0.    , 0.    , 0.    , 0.    ],\n",
       "       [0.    , 0.    , 0.0004, 0.    , 0.    , 0.    ],\n",
       "       [0.    , 0.    , 0.    , 0.    , 0.    , 0.    ],\n",
       "       [0.    , 0.    , 0.    , 0.    , 0.    , 0.    ],\n",
       "       [0.    , 0.    , 0.    , 0.    , 0.    , 0.    ]])"
      ]
     },
     "execution_count": 14,
     "metadata": {},
     "output_type": "execute_result"
    }
   ],
   "source": [
    "kf.L @ Sigma(0) @ kf.L.T"
   ]
  },
  {
   "cell_type": "code",
   "execution_count": null,
   "metadata": {},
   "outputs": [],
   "source": []
  }
 ],
 "metadata": {
  "kernelspec": {
   "display_name": "Python 3",
   "language": "python",
   "name": "python3"
  },
  "language_info": {
   "codemirror_mode": {
    "name": "ipython",
    "version": 3
   },
   "file_extension": ".py",
   "mimetype": "text/x-python",
   "name": "python",
   "nbconvert_exporter": "python",
   "pygments_lexer": "ipython3",
   "version": "3.8.10"
  },
  "orig_nbformat": 4
 },
 "nbformat": 4,
 "nbformat_minor": 2
}
